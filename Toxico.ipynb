{
 "cells": [
  {
   "cell_type": "markdown",
   "id": "8cd0b7e1",
   "metadata": {},
   "source": [
    "<h1>MENSAJES TÓXICOS EN YOU TUBE</h1>\n",
    "\n",
    "<h6>Este cuaderno es un ejemplo de análisis exploratorio de datos (EDA por sus siglas en inglés) ejecutado sobre el dataset YOUTOXIC_ENGLISH_1000-CSV donde se recogen datos de mensajes de la plataforma de youtube.\n",
    "\n",
    "El ejercicio consiste en plotear gráficas interesantes buscando patrones relevantes que pudieran ser útiles en la predicción de alquileres de viviendas con fines vacacionales</h6>\n",
    "\n"
   ]
  },
  {
   "cell_type": "markdown",
   "source": [
    "<h2>Estas son las variables por entrada que contiene este dataset:</h2>\n",
    "<ul>\n",
    "    <li><b>CommentId: </b>Comentario Id</li>\n",
    "    <li><b>VideoId: </b>Video Id</li>\n",
    "    <li><b>Text: </b>Texto</li>\n",
    "    <li><b>isToxic: </b>Es tóxico</li>\n",
    "    <li><b>IsThreat: </b>Es una amenaza</li>\n",
    "    <li><b>IsProvocative: </b>Es provocativo</li>\n",
    "    <li><b>IsObscene: </b>Es obsceno</li>\n",
    "    <li><b>IsHatespeech: </b>Es discurso de odio</li>\n",
    "    <li><b>IsRacist: </b>Es racista</li>\n",
    "    <li><b>IsNationalist: </b>Es nacionalista</li>\n",
    "    <li><b>IsSexist: </b>Es sexista</li>\n",
    "    <li><b>IsHomophobic: </b>Es homófobo</li>\n",
    "    <li><b>IsReligiousHate: </b>Es de odio religioso</li>\n",
    "    <li><b>IsRadicalism: </b>Es radical</li>\n",
    "</ul>"
   ],
   "metadata": {
    "collapsed": false
   }
  },
  {
   "cell_type": "code",
   "execution_count": 1,
   "id": "e7e9f57c-0336-4881-a24d-42c95fc88fab",
   "metadata": {},
   "outputs": [],
   "source": [
    "# Importar librerías básicas análisis de datos\n",
    "import pandas as pd\n",
    "import numpy as np\n",
    "import re, string\n",
    "import emoji\n",
    "\n",
    "#Librerias NLP\n",
    "import spacy\n",
    "import nltk\n",
    "from nltk.corpus import stopwords\n",
    "from nltk.tokenize import word_tokenize\n",
    "\n",
    "# Librerías de visualización\n",
    "import matplotlib.pyplot as plt\n",
    "import seaborn as sns\n",
    "\n",
    "#Librerías entrenamiento de modelos\n",
    "from sklearn.model_selection import train_test_split"
   ]
  },
  {
   "cell_type": "code",
   "execution_count": 5,
   "outputs": [],
   "source": [
    "#!pip install emoji"
   ],
   "metadata": {
    "collapsed": false
   }
  },
  {
   "cell_type": "code",
   "execution_count": 7,
   "outputs": [],
   "source": [
    "#!pip install spacy\n",
    "#!pip install nltk\n",
    "#!python -m spacy download en_core_web_sm # --> pipeline en ingles\n",
    "#!pip install scikit-learn"
   ],
   "metadata": {
    "collapsed": false
   }
  },
  {
   "cell_type": "markdown",
   "source": [
    "# Exploración inicial del dataset"
   ],
   "metadata": {
    "collapsed": false
   }
  },
  {
   "cell_type": "code",
   "execution_count": 50,
   "id": "0ec659b5-9e7b-463b-a4e6-2508cf3ebfce",
   "metadata": {},
   "outputs": [
    {
     "data": {
      "text/plain": "              CommentId      VideoId  \\\n0  Ugg2KwwX0V8-aXgCoAEC  04kJtp6pVXI   \n1  Ugg2s5AzSPioEXgCoAEC  04kJtp6pVXI   \n2  Ugg3dWTOxryFfHgCoAEC  04kJtp6pVXI   \n3  Ugg7Gd006w1MPngCoAEC  04kJtp6pVXI   \n4  Ugg8FfTbbNF8IngCoAEC  04kJtp6pVXI   \n\n                                                Text  IsToxic  IsAbusive  \\\n0  If only people would just take a step back and...    False      False   \n1  Law enforcement is not trained to shoot to app...     True       True   \n2  \\nDont you reckon them 'black lives matter' ba...     True       True   \n3  There are a very large number of people who do...    False      False   \n4  The Arab dude is absolutely right, he should h...    False      False   \n\n   IsThreat  IsProvocative  IsObscene  IsHatespeech  IsRacist  IsNationalist  \\\n0     False          False      False         False     False          False   \n1     False          False      False         False     False          False   \n2     False          False       True         False     False          False   \n3     False          False      False         False     False          False   \n4     False          False      False         False     False          False   \n\n   IsSexist  IsHomophobic  IsReligiousHate  IsRadicalism  \n0     False         False            False         False  \n1     False         False            False         False  \n2     False         False            False         False  \n3     False         False            False         False  \n4     False         False            False         False  ",
      "text/html": "<div>\n<style scoped>\n    .dataframe tbody tr th:only-of-type {\n        vertical-align: middle;\n    }\n\n    .dataframe tbody tr th {\n        vertical-align: top;\n    }\n\n    .dataframe thead th {\n        text-align: right;\n    }\n</style>\n<table border=\"1\" class=\"dataframe\">\n  <thead>\n    <tr style=\"text-align: right;\">\n      <th></th>\n      <th>CommentId</th>\n      <th>VideoId</th>\n      <th>Text</th>\n      <th>IsToxic</th>\n      <th>IsAbusive</th>\n      <th>IsThreat</th>\n      <th>IsProvocative</th>\n      <th>IsObscene</th>\n      <th>IsHatespeech</th>\n      <th>IsRacist</th>\n      <th>IsNationalist</th>\n      <th>IsSexist</th>\n      <th>IsHomophobic</th>\n      <th>IsReligiousHate</th>\n      <th>IsRadicalism</th>\n    </tr>\n  </thead>\n  <tbody>\n    <tr>\n      <th>0</th>\n      <td>Ugg2KwwX0V8-aXgCoAEC</td>\n      <td>04kJtp6pVXI</td>\n      <td>If only people would just take a step back and...</td>\n      <td>False</td>\n      <td>False</td>\n      <td>False</td>\n      <td>False</td>\n      <td>False</td>\n      <td>False</td>\n      <td>False</td>\n      <td>False</td>\n      <td>False</td>\n      <td>False</td>\n      <td>False</td>\n      <td>False</td>\n    </tr>\n    <tr>\n      <th>1</th>\n      <td>Ugg2s5AzSPioEXgCoAEC</td>\n      <td>04kJtp6pVXI</td>\n      <td>Law enforcement is not trained to shoot to app...</td>\n      <td>True</td>\n      <td>True</td>\n      <td>False</td>\n      <td>False</td>\n      <td>False</td>\n      <td>False</td>\n      <td>False</td>\n      <td>False</td>\n      <td>False</td>\n      <td>False</td>\n      <td>False</td>\n      <td>False</td>\n    </tr>\n    <tr>\n      <th>2</th>\n      <td>Ugg3dWTOxryFfHgCoAEC</td>\n      <td>04kJtp6pVXI</td>\n      <td>\\nDont you reckon them 'black lives matter' ba...</td>\n      <td>True</td>\n      <td>True</td>\n      <td>False</td>\n      <td>False</td>\n      <td>True</td>\n      <td>False</td>\n      <td>False</td>\n      <td>False</td>\n      <td>False</td>\n      <td>False</td>\n      <td>False</td>\n      <td>False</td>\n    </tr>\n    <tr>\n      <th>3</th>\n      <td>Ugg7Gd006w1MPngCoAEC</td>\n      <td>04kJtp6pVXI</td>\n      <td>There are a very large number of people who do...</td>\n      <td>False</td>\n      <td>False</td>\n      <td>False</td>\n      <td>False</td>\n      <td>False</td>\n      <td>False</td>\n      <td>False</td>\n      <td>False</td>\n      <td>False</td>\n      <td>False</td>\n      <td>False</td>\n      <td>False</td>\n    </tr>\n    <tr>\n      <th>4</th>\n      <td>Ugg8FfTbbNF8IngCoAEC</td>\n      <td>04kJtp6pVXI</td>\n      <td>The Arab dude is absolutely right, he should h...</td>\n      <td>False</td>\n      <td>False</td>\n      <td>False</td>\n      <td>False</td>\n      <td>False</td>\n      <td>False</td>\n      <td>False</td>\n      <td>False</td>\n      <td>False</td>\n      <td>False</td>\n      <td>False</td>\n      <td>False</td>\n    </tr>\n  </tbody>\n</table>\n</div>"
     },
     "execution_count": 50,
     "metadata": {},
     "output_type": "execute_result"
    }
   ],
   "source": [
    "df = pd.read_csv('youtoxic_english_1000.csv')\n",
    "df.head()"
   ]
  },
  {
   "cell_type": "code",
   "execution_count": 5,
   "id": "6a69c2fd-dc74-4311-a060-096bfea0358d",
   "metadata": {},
   "outputs": [
    {
     "data": {
      "text/plain": [
       "CommentId          object\n",
       "VideoId            object\n",
       "Text               object\n",
       "IsToxic              bool\n",
       "IsAbusive            bool\n",
       "IsThreat             bool\n",
       "IsProvocative        bool\n",
       "IsObscene            bool\n",
       "IsHatespeech         bool\n",
       "IsRacist             bool\n",
       "IsNationalist        bool\n",
       "IsSexist             bool\n",
       "IsHomophobic         bool\n",
       "IsReligiousHate      bool\n",
       "IsRadicalism         bool\n",
       "dtype: object"
      ]
     },
     "execution_count": 5,
     "metadata": {},
     "output_type": "execute_result"
    }
   ],
   "source": [
    "# formato de los datos\n",
    "df.dtypes"
   ]
  },
  {
   "cell_type": "code",
   "execution_count": 6,
   "id": "829cbdd8-5db8-46a5-9217-b825394fe908",
   "metadata": {},
   "outputs": [
    {
     "name": "stdout",
     "output_type": "stream",
     "text": [
      "<class 'pandas.core.frame.DataFrame'>\n",
      "RangeIndex: 1000 entries, 0 to 999\n",
      "Data columns (total 15 columns):\n",
      " #   Column           Non-Null Count  Dtype \n",
      "---  ------           --------------  ----- \n",
      " 0   CommentId        1000 non-null   object\n",
      " 1   VideoId          1000 non-null   object\n",
      " 2   Text             1000 non-null   object\n",
      " 3   IsToxic          1000 non-null   bool  \n",
      " 4   IsAbusive        1000 non-null   bool  \n",
      " 5   IsThreat         1000 non-null   bool  \n",
      " 6   IsProvocative    1000 non-null   bool  \n",
      " 7   IsObscene        1000 non-null   bool  \n",
      " 8   IsHatespeech     1000 non-null   bool  \n",
      " 9   IsRacist         1000 non-null   bool  \n",
      " 10  IsNationalist    1000 non-null   bool  \n",
      " 11  IsSexist         1000 non-null   bool  \n",
      " 12  IsHomophobic     1000 non-null   bool  \n",
      " 13  IsReligiousHate  1000 non-null   bool  \n",
      " 14  IsRadicalism     1000 non-null   bool  \n",
      "dtypes: bool(12), object(3)\n",
      "memory usage: 35.3+ KB\n"
     ]
    }
   ],
   "source": [
    "df.info()"
   ]
  },
  {
   "cell_type": "code",
   "execution_count": 7,
   "id": "6d80085e-fa4e-44c4-9104-0a9e8d8e47f2",
   "metadata": {},
   "outputs": [
    {
     "data": {
      "text/plain": [
       "CommentId          0\n",
       "VideoId            0\n",
       "Text               0\n",
       "IsToxic            0\n",
       "IsAbusive          0\n",
       "IsThreat           0\n",
       "IsProvocative      0\n",
       "IsObscene          0\n",
       "IsHatespeech       0\n",
       "IsRacist           0\n",
       "IsNationalist      0\n",
       "IsSexist           0\n",
       "IsHomophobic       0\n",
       "IsReligiousHate    0\n",
       "IsRadicalism       0\n",
       "dtype: int64"
      ]
     },
     "execution_count": 7,
     "metadata": {},
     "output_type": "execute_result"
    }
   ],
   "source": [
    "# Conocer datos nulos\n",
    "df.isnull().sum()"
   ]
  },
  {
   "cell_type": "code",
   "execution_count": 8,
   "id": "5d63850c-397d-4ec3-a623-4ce61efe2928",
   "metadata": {},
   "outputs": [
    {
     "data": {
      "text/html": [
       "<div>\n",
       "<style scoped>\n",
       "    .dataframe tbody tr th:only-of-type {\n",
       "        vertical-align: middle;\n",
       "    }\n",
       "\n",
       "    .dataframe tbody tr th {\n",
       "        vertical-align: top;\n",
       "    }\n",
       "\n",
       "    .dataframe thead th {\n",
       "        text-align: right;\n",
       "    }\n",
       "</style>\n",
       "<table border=\"1\" class=\"dataframe\">\n",
       "  <thead>\n",
       "    <tr style=\"text-align: right;\">\n",
       "      <th></th>\n",
       "      <th>CommentId</th>\n",
       "      <th>VideoId</th>\n",
       "      <th>Text</th>\n",
       "      <th>IsToxic</th>\n",
       "      <th>IsAbusive</th>\n",
       "      <th>IsThreat</th>\n",
       "      <th>IsProvocative</th>\n",
       "      <th>IsObscene</th>\n",
       "      <th>IsHatespeech</th>\n",
       "      <th>IsRacist</th>\n",
       "      <th>IsNationalist</th>\n",
       "      <th>IsSexist</th>\n",
       "      <th>IsHomophobic</th>\n",
       "      <th>IsReligiousHate</th>\n",
       "      <th>IsRadicalism</th>\n",
       "    </tr>\n",
       "  </thead>\n",
       "  <tbody>\n",
       "    <tr>\n",
       "      <th>count</th>\n",
       "      <td>1000</td>\n",
       "      <td>1000</td>\n",
       "      <td>1000</td>\n",
       "      <td>1000</td>\n",
       "      <td>1000</td>\n",
       "      <td>1000</td>\n",
       "      <td>1000</td>\n",
       "      <td>1000</td>\n",
       "      <td>1000</td>\n",
       "      <td>1000</td>\n",
       "      <td>1000</td>\n",
       "      <td>1000</td>\n",
       "      <td>1000</td>\n",
       "      <td>1000</td>\n",
       "      <td>1000</td>\n",
       "    </tr>\n",
       "    <tr>\n",
       "      <th>unique</th>\n",
       "      <td>1000</td>\n",
       "      <td>13</td>\n",
       "      <td>997</td>\n",
       "      <td>2</td>\n",
       "      <td>2</td>\n",
       "      <td>2</td>\n",
       "      <td>2</td>\n",
       "      <td>2</td>\n",
       "      <td>2</td>\n",
       "      <td>2</td>\n",
       "      <td>2</td>\n",
       "      <td>2</td>\n",
       "      <td>1</td>\n",
       "      <td>2</td>\n",
       "      <td>1</td>\n",
       "    </tr>\n",
       "    <tr>\n",
       "      <th>top</th>\n",
       "      <td>Ugg2KwwX0V8-aXgCoAEC</td>\n",
       "      <td>9pr1oE34bIM</td>\n",
       "      <td>run them over</td>\n",
       "      <td>False</td>\n",
       "      <td>False</td>\n",
       "      <td>False</td>\n",
       "      <td>False</td>\n",
       "      <td>False</td>\n",
       "      <td>False</td>\n",
       "      <td>False</td>\n",
       "      <td>False</td>\n",
       "      <td>False</td>\n",
       "      <td>False</td>\n",
       "      <td>False</td>\n",
       "      <td>False</td>\n",
       "    </tr>\n",
       "    <tr>\n",
       "      <th>freq</th>\n",
       "      <td>1</td>\n",
       "      <td>274</td>\n",
       "      <td>3</td>\n",
       "      <td>538</td>\n",
       "      <td>647</td>\n",
       "      <td>979</td>\n",
       "      <td>839</td>\n",
       "      <td>900</td>\n",
       "      <td>862</td>\n",
       "      <td>875</td>\n",
       "      <td>992</td>\n",
       "      <td>999</td>\n",
       "      <td>1000</td>\n",
       "      <td>988</td>\n",
       "      <td>1000</td>\n",
       "    </tr>\n",
       "  </tbody>\n",
       "</table>\n",
       "</div>"
      ],
      "text/plain": [
       "                   CommentId      VideoId           Text IsToxic IsAbusive  \\\n",
       "count                   1000         1000           1000    1000      1000   \n",
       "unique                  1000           13            997       2         2   \n",
       "top     Ugg2KwwX0V8-aXgCoAEC  9pr1oE34bIM  run them over   False     False   \n",
       "freq                       1          274              3     538       647   \n",
       "\n",
       "       IsThreat IsProvocative IsObscene IsHatespeech IsRacist IsNationalist  \\\n",
       "count      1000          1000      1000         1000     1000          1000   \n",
       "unique        2             2         2            2        2             2   \n",
       "top       False         False     False        False    False         False   \n",
       "freq        979           839       900          862      875           992   \n",
       "\n",
       "       IsSexist IsHomophobic IsReligiousHate IsRadicalism  \n",
       "count      1000         1000            1000         1000  \n",
       "unique        2            1               2            1  \n",
       "top       False        False           False        False  \n",
       "freq        999         1000             988         1000  "
      ]
     },
     "execution_count": 8,
     "metadata": {},
     "output_type": "execute_result"
    }
   ],
   "source": [
    "# Datos estadísticos\n",
    "df.describe()"
   ]
  },
  {
   "cell_type": "code",
   "execution_count": 9,
   "id": "574f2b43-b1b2-4b30-951e-b3fab8b7bfa3",
   "metadata": {},
   "outputs": [
    {
     "data": {
      "text/plain": [
       "Index(['CommentId', 'VideoId', 'Text', 'IsToxic', 'IsAbusive', 'IsThreat',\n",
       "       'IsProvocative', 'IsObscene', 'IsHatespeech', 'IsRacist',\n",
       "       'IsNationalist', 'IsSexist', 'IsHomophobic', 'IsReligiousHate',\n",
       "       'IsRadicalism'],\n",
       "      dtype='object')"
      ]
     },
     "execution_count": 9,
     "metadata": {},
     "output_type": "execute_result"
    }
   ],
   "source": [
    "# Descripción de columnas\n",
    "df.columns"
   ]
  },
  {
   "cell_type": "code",
   "execution_count": 10,
   "id": "a64f8126-23fe-42f2-ba50-9ff3de7168d3",
   "metadata": {},
   "outputs": [
    {
     "data": {
      "text/plain": [
       "0"
      ]
     },
     "execution_count": 10,
     "metadata": {},
     "output_type": "execute_result"
    }
   ],
   "source": [
    "df.duplicated().sum()"
   ]
  },
  {
   "cell_type": "code",
   "execution_count": 11,
   "id": "fbf698c0",
   "metadata": {
    "scrolled": true
   },
   "outputs": [
    {
     "name": "stderr",
     "output_type": "stream",
     "text": [
      "/tmp/ipykernel_27652/1134722465.py:1: FutureWarning: The default value of numeric_only in DataFrame.corr is deprecated. In a future version, it will default to False. Select only valid columns or specify the value of numeric_only to silence this warning.\n",
      "  df.corr()\n"
     ]
    },
    {
     "data": {
      "text/html": [
       "<div>\n",
       "<style scoped>\n",
       "    .dataframe tbody tr th:only-of-type {\n",
       "        vertical-align: middle;\n",
       "    }\n",
       "\n",
       "    .dataframe tbody tr th {\n",
       "        vertical-align: top;\n",
       "    }\n",
       "\n",
       "    .dataframe thead th {\n",
       "        text-align: right;\n",
       "    }\n",
       "</style>\n",
       "<table border=\"1\" class=\"dataframe\">\n",
       "  <thead>\n",
       "    <tr style=\"text-align: right;\">\n",
       "      <th></th>\n",
       "      <th>IsToxic</th>\n",
       "      <th>IsAbusive</th>\n",
       "      <th>IsThreat</th>\n",
       "      <th>IsProvocative</th>\n",
       "      <th>IsObscene</th>\n",
       "      <th>IsHatespeech</th>\n",
       "      <th>IsRacist</th>\n",
       "      <th>IsNationalist</th>\n",
       "      <th>IsSexist</th>\n",
       "      <th>IsHomophobic</th>\n",
       "      <th>IsReligiousHate</th>\n",
       "      <th>IsRadicalism</th>\n",
       "    </tr>\n",
       "  </thead>\n",
       "  <tbody>\n",
       "    <tr>\n",
       "      <th>IsToxic</th>\n",
       "      <td>1.000000</td>\n",
       "      <td>0.797086</td>\n",
       "      <td>0.158048</td>\n",
       "      <td>0.472718</td>\n",
       "      <td>0.359707</td>\n",
       "      <td>0.431774</td>\n",
       "      <td>0.407869</td>\n",
       "      <td>0.096908</td>\n",
       "      <td>0.034142</td>\n",
       "      <td>NaN</td>\n",
       "      <td>0.118928</td>\n",
       "      <td>NaN</td>\n",
       "    </tr>\n",
       "    <tr>\n",
       "      <th>IsAbusive</th>\n",
       "      <td>0.797086</td>\n",
       "      <td>1.000000</td>\n",
       "      <td>0.198282</td>\n",
       "      <td>0.593057</td>\n",
       "      <td>0.451277</td>\n",
       "      <td>-0.119603</td>\n",
       "      <td>-0.121005</td>\n",
       "      <td>-0.042843</td>\n",
       "      <td>0.042833</td>\n",
       "      <td>NaN</td>\n",
       "      <td>-0.042970</td>\n",
       "      <td>NaN</td>\n",
       "    </tr>\n",
       "    <tr>\n",
       "      <th>IsThreat</th>\n",
       "      <td>0.158048</td>\n",
       "      <td>0.198282</td>\n",
       "      <td>1.000000</td>\n",
       "      <td>0.106626</td>\n",
       "      <td>-0.048820</td>\n",
       "      <td>0.002063</td>\n",
       "      <td>-0.034268</td>\n",
       "      <td>-0.013152</td>\n",
       "      <td>-0.004634</td>\n",
       "      <td>NaN</td>\n",
       "      <td>0.111962</td>\n",
       "      <td>NaN</td>\n",
       "    </tr>\n",
       "    <tr>\n",
       "      <th>IsProvocative</th>\n",
       "      <td>0.472718</td>\n",
       "      <td>0.593057</td>\n",
       "      <td>0.106626</td>\n",
       "      <td>1.000000</td>\n",
       "      <td>0.089788</td>\n",
       "      <td>-0.072719</td>\n",
       "      <td>-0.075072</td>\n",
       "      <td>-0.008796</td>\n",
       "      <td>-0.013860</td>\n",
       "      <td>NaN</td>\n",
       "      <td>0.001699</td>\n",
       "      <td>NaN</td>\n",
       "    </tr>\n",
       "    <tr>\n",
       "      <th>IsObscene</th>\n",
       "      <td>0.359707</td>\n",
       "      <td>0.451277</td>\n",
       "      <td>-0.048820</td>\n",
       "      <td>0.089788</td>\n",
       "      <td>1.000000</td>\n",
       "      <td>-0.027061</td>\n",
       "      <td>-0.035277</td>\n",
       "      <td>-0.029934</td>\n",
       "      <td>0.094916</td>\n",
       "      <td>NaN</td>\n",
       "      <td>-0.036736</td>\n",
       "      <td>NaN</td>\n",
       "    </tr>\n",
       "    <tr>\n",
       "      <th>IsHatespeech</th>\n",
       "      <td>0.431774</td>\n",
       "      <td>-0.119603</td>\n",
       "      <td>0.002063</td>\n",
       "      <td>-0.072719</td>\n",
       "      <td>-0.027061</td>\n",
       "      <td>1.000000</td>\n",
       "      <td>0.944637</td>\n",
       "      <td>0.224442</td>\n",
       "      <td>0.079074</td>\n",
       "      <td>NaN</td>\n",
       "      <td>0.275440</td>\n",
       "      <td>NaN</td>\n",
       "    </tr>\n",
       "    <tr>\n",
       "      <th>IsRacist</th>\n",
       "      <td>0.407869</td>\n",
       "      <td>-0.121005</td>\n",
       "      <td>-0.034268</td>\n",
       "      <td>-0.075072</td>\n",
       "      <td>-0.035277</td>\n",
       "      <td>0.944637</td>\n",
       "      <td>1.000000</td>\n",
       "      <td>0.237595</td>\n",
       "      <td>-0.011958</td>\n",
       "      <td>NaN</td>\n",
       "      <td>0.013885</td>\n",
       "      <td>NaN</td>\n",
       "    </tr>\n",
       "    <tr>\n",
       "      <th>IsNationalist</th>\n",
       "      <td>0.096908</td>\n",
       "      <td>-0.042843</td>\n",
       "      <td>-0.013152</td>\n",
       "      <td>-0.008796</td>\n",
       "      <td>-0.029934</td>\n",
       "      <td>0.224442</td>\n",
       "      <td>0.237595</td>\n",
       "      <td>1.000000</td>\n",
       "      <td>-0.002841</td>\n",
       "      <td>NaN</td>\n",
       "      <td>-0.009897</td>\n",
       "      <td>NaN</td>\n",
       "    </tr>\n",
       "    <tr>\n",
       "      <th>IsSexist</th>\n",
       "      <td>0.034142</td>\n",
       "      <td>0.042833</td>\n",
       "      <td>-0.004634</td>\n",
       "      <td>-0.013860</td>\n",
       "      <td>0.094916</td>\n",
       "      <td>0.079074</td>\n",
       "      <td>-0.011958</td>\n",
       "      <td>-0.002841</td>\n",
       "      <td>1.000000</td>\n",
       "      <td>NaN</td>\n",
       "      <td>-0.003487</td>\n",
       "      <td>NaN</td>\n",
       "    </tr>\n",
       "    <tr>\n",
       "      <th>IsHomophobic</th>\n",
       "      <td>NaN</td>\n",
       "      <td>NaN</td>\n",
       "      <td>NaN</td>\n",
       "      <td>NaN</td>\n",
       "      <td>NaN</td>\n",
       "      <td>NaN</td>\n",
       "      <td>NaN</td>\n",
       "      <td>NaN</td>\n",
       "      <td>NaN</td>\n",
       "      <td>NaN</td>\n",
       "      <td>NaN</td>\n",
       "      <td>NaN</td>\n",
       "    </tr>\n",
       "    <tr>\n",
       "      <th>IsReligiousHate</th>\n",
       "      <td>0.118928</td>\n",
       "      <td>-0.042970</td>\n",
       "      <td>0.111962</td>\n",
       "      <td>0.001699</td>\n",
       "      <td>-0.036736</td>\n",
       "      <td>0.275440</td>\n",
       "      <td>0.013885</td>\n",
       "      <td>-0.009897</td>\n",
       "      <td>-0.003487</td>\n",
       "      <td>NaN</td>\n",
       "      <td>1.000000</td>\n",
       "      <td>NaN</td>\n",
       "    </tr>\n",
       "    <tr>\n",
       "      <th>IsRadicalism</th>\n",
       "      <td>NaN</td>\n",
       "      <td>NaN</td>\n",
       "      <td>NaN</td>\n",
       "      <td>NaN</td>\n",
       "      <td>NaN</td>\n",
       "      <td>NaN</td>\n",
       "      <td>NaN</td>\n",
       "      <td>NaN</td>\n",
       "      <td>NaN</td>\n",
       "      <td>NaN</td>\n",
       "      <td>NaN</td>\n",
       "      <td>NaN</td>\n",
       "    </tr>\n",
       "  </tbody>\n",
       "</table>\n",
       "</div>"
      ],
      "text/plain": [
       "                  IsToxic  IsAbusive  IsThreat  IsProvocative  IsObscene  \\\n",
       "IsToxic          1.000000   0.797086  0.158048       0.472718   0.359707   \n",
       "IsAbusive        0.797086   1.000000  0.198282       0.593057   0.451277   \n",
       "IsThreat         0.158048   0.198282  1.000000       0.106626  -0.048820   \n",
       "IsProvocative    0.472718   0.593057  0.106626       1.000000   0.089788   \n",
       "IsObscene        0.359707   0.451277 -0.048820       0.089788   1.000000   \n",
       "IsHatespeech     0.431774  -0.119603  0.002063      -0.072719  -0.027061   \n",
       "IsRacist         0.407869  -0.121005 -0.034268      -0.075072  -0.035277   \n",
       "IsNationalist    0.096908  -0.042843 -0.013152      -0.008796  -0.029934   \n",
       "IsSexist         0.034142   0.042833 -0.004634      -0.013860   0.094916   \n",
       "IsHomophobic          NaN        NaN       NaN            NaN        NaN   \n",
       "IsReligiousHate  0.118928  -0.042970  0.111962       0.001699  -0.036736   \n",
       "IsRadicalism          NaN        NaN       NaN            NaN        NaN   \n",
       "\n",
       "                 IsHatespeech  IsRacist  IsNationalist  IsSexist  \\\n",
       "IsToxic              0.431774  0.407869       0.096908  0.034142   \n",
       "IsAbusive           -0.119603 -0.121005      -0.042843  0.042833   \n",
       "IsThreat             0.002063 -0.034268      -0.013152 -0.004634   \n",
       "IsProvocative       -0.072719 -0.075072      -0.008796 -0.013860   \n",
       "IsObscene           -0.027061 -0.035277      -0.029934  0.094916   \n",
       "IsHatespeech         1.000000  0.944637       0.224442  0.079074   \n",
       "IsRacist             0.944637  1.000000       0.237595 -0.011958   \n",
       "IsNationalist        0.224442  0.237595       1.000000 -0.002841   \n",
       "IsSexist             0.079074 -0.011958      -0.002841  1.000000   \n",
       "IsHomophobic              NaN       NaN            NaN       NaN   \n",
       "IsReligiousHate      0.275440  0.013885      -0.009897 -0.003487   \n",
       "IsRadicalism              NaN       NaN            NaN       NaN   \n",
       "\n",
       "                 IsHomophobic  IsReligiousHate  IsRadicalism  \n",
       "IsToxic                   NaN         0.118928           NaN  \n",
       "IsAbusive                 NaN        -0.042970           NaN  \n",
       "IsThreat                  NaN         0.111962           NaN  \n",
       "IsProvocative             NaN         0.001699           NaN  \n",
       "IsObscene                 NaN        -0.036736           NaN  \n",
       "IsHatespeech              NaN         0.275440           NaN  \n",
       "IsRacist                  NaN         0.013885           NaN  \n",
       "IsNationalist             NaN        -0.009897           NaN  \n",
       "IsSexist                  NaN        -0.003487           NaN  \n",
       "IsHomophobic              NaN              NaN           NaN  \n",
       "IsReligiousHate           NaN         1.000000           NaN  \n",
       "IsRadicalism              NaN              NaN           NaN  "
      ]
     },
     "execution_count": 11,
     "metadata": {},
     "output_type": "execute_result"
    }
   ],
   "source": [
    "df.corr()"
   ]
  },
  {
   "cell_type": "markdown",
   "source": [
    "# Visualización de Datos"
   ],
   "metadata": {
    "collapsed": false
   }
  },
  {
   "cell_type": "code",
   "execution_count": 41,
   "id": "27c98c1e",
   "metadata": {},
   "outputs": [],
   "source": [
    "# Establecer el porcentaje de una columna de datos de visualización\n",
    "def porcentaje_grafico(ax):\n",
    "    ax.spines[\"top\"].set_visible(False)\n",
    "    ax.spines[\"right\"].set_visible(False)\n",
    "    for p in ax.patches:\n",
    "        ax.annotate(f\"{p.get_height()*100/df.shape[0]:.2f}%\",(p.get_x()+p.get_width()/2,p.get_height()),\n",
    "                   ha=\"center\",va=\"center\",fontsize=11,color=\"black\",rotation=0,xytext=(0,10),textcoords=\"offset points\")"
   ]
  },
  {
   "cell_type": "code",
   "execution_count": 42,
   "id": "1edc8771",
   "metadata": {},
   "outputs": [
    {
     "name": "stdout",
     "output_type": "stream",
     "text": [
      "Categpría del comentario:\n",
      "\n",
      "IsToxic\n",
      "False    538\n",
      "True     462\n",
      "Name: IsToxic, dtype: int64\n",
      "\n",
      "IsAbusive\n",
      "False    647\n",
      "True     353\n",
      "Name: IsAbusive, dtype: int64\n",
      "\n",
      "IsThreat\n",
      "False    979\n",
      "True      21\n",
      "Name: IsThreat, dtype: int64\n",
      "\n",
      "IsProvocative\n",
      "False    839\n",
      "True     161\n",
      "Name: IsProvocative, dtype: int64\n",
      "\n",
      "IsObscene\n",
      "False    900\n",
      "True     100\n",
      "Name: IsObscene, dtype: int64\n",
      "\n",
      "IsHatespeech\n",
      "False    862\n",
      "True     138\n",
      "Name: IsHatespeech, dtype: int64\n",
      "\n",
      "IsRacist\n",
      "False    875\n",
      "True     125\n",
      "Name: IsRacist, dtype: int64\n",
      "\n",
      "IsNationalist\n",
      "False    992\n",
      "True       8\n",
      "Name: IsNationalist, dtype: int64\n",
      "\n",
      "IsSexist\n",
      "False    999\n",
      "True       1\n",
      "Name: IsSexist, dtype: int64\n",
      "\n",
      "IsHomophobic\n",
      "False    1000\n",
      "Name: IsHomophobic, dtype: int64\n",
      "\n",
      "IsReligiousHate\n",
      "False    988\n",
      "True      12\n",
      "Name: IsReligiousHate, dtype: int64\n",
      "\n",
      "IsRadicalism\n",
      "False    1000\n",
      "Name: IsRadicalism, dtype: int64\n",
      "\n"
     ]
    },
    {
     "data": {
      "text/plain": "<Figure size 2000x1500 with 12 Axes>",
      "image/png": "[encoded data removed]"
     },
     "metadata": {},
     "output_type": "display_data"
    }
   ],
   "source": [
    "variables_binarias=[\"IsToxic\",'IsAbusive',\"IsThreat\",  \"IsProvocative\" , \"IsObscene\", \"IsHatespeech\", \"IsRacist\", \"IsNationalist\", \"IsSexist\", \"IsHomophobic\", \"IsReligiousHate\", \"IsRadicalism\" ]\n",
    "# Conteo de cada una de las categorías.\n",
    "print(f\"Categpría del comentario:\")\n",
    "print()\n",
    "for col in variables_binarias:\n",
    "    print(f\"{col}\")\n",
    "    print(df[col].value_counts())\n",
    "    print()\n",
    "\n",
    "fig,axes=plt.subplots(nrows=3,ncols=4,figsize=(20,15))\n",
    "for i,item in enumerate(variables_binarias): #enumerate()\n",
    "    plt.subplot(3,4,(i+1))\n",
    "    ax = sns.countplot(x=item,data=df,palette=\"gist_rainbow_r\")\n",
    "    plt.xlabel(str(item))\n",
    "    #plt.title(\"Categorias de Toxicidad \"+str(item))\n",
    "    i=i+1\n",
    "    porcentaje_grafico(ax)\n",
    "plt.show()"
   ]
  },
  {
   "cell_type": "markdown",
   "source": [
    "* # Número de comentarios por Id del video"
   ],
   "metadata": {
    "collapsed": false
   }
  },
  {
   "cell_type": "code",
   "execution_count": 7,
   "outputs": [
    {
     "data": {
      "text/plain": "run them over                                                                                                                                                                                                                                                                                                                                                                                                                                                                                                                                                                                                                                                                                                                                                                                                                                                                                                                                                                                                                                                                                                                                                                                                                                                                                                                                                                                                                                                                                                                                                                                                             3\nRUN THEM OVER                                                                                                                                                                                                                                                                                                                                                                                                                                                                                                                                                                                                                                                                                                                                                                                                                                                                                                                                                                                                                                                                                                                                                                                                                                                                                                                                                                                                                                                                                                                                                                                                             2\nIf only people would just take a step back and not make this case about them, because it wasn't about anyone except the two people in that situation.  To lump yourself into this mess and take matters into your own hands makes these kinds of protests selfish and without rational thought and investigation.  The guy in this video is heavily emotional and hyped up and wants to be heard, and when he gets heard he just presses more and more.  He was never out to have a reasonable discussion.  Kudos to the Smerconish for keeping level the whole time and letting Masri make himself out to be a fool.  How dare he and those that tore that city down in protest make this about themselves and to dishonor the entire incident with their own hate.  By the way, since when did police brutality become an epidemic?  I wish everyone would just stop pretending like they were there and they knew EXACTLY what was going on, because there's no measurable amount of people that honestly witnessed this incident, so none of us have a clue on which way this whole issue should have swung.  The grand jury were the most informed, we have to trust the majority rule was the right course of action and let it be.  Also, thank you to the 99.999% of police officers in America that actually serve & protect, even if you're a bit of a jerk when you pull me over, I respect your job and know that someone has to do it and that many people are going to pout about being held accountable to their actions.  People hate police until they need an officer or two around in an emergency.    1\nThey should have protest in furgison not in So Cal. Take the fight to wear it started                                                                                                                                                                                                                                                                                                                                                                                                                                                                                                                                                                                                                                                                                                                                                                                                                                                                                                                                                                                                                                                                                                                                                                                                                                                                                                                                                                                                                                                                                                                                     1\nRun the black cunts over                                                                                                                                                                                                                                                                                                                                                                                                                                                                                                                                                                                                                                                                                                                                                                                                                                                                                                                                                                                                                                                                                                                                                                                                                                                                                                                                                                                                                                                                                                                                                                                                  1\n                                                                                                                                                                                                                                                                                                                                                                                                                                                                                                                                                                                                                                                                                                                                                                                                                                                                                                                                                                                                                                                                                                                                                                                                                                                                                                                                                                                                                                                                                                                                                                                                                         ..\nHere I was thinking I was getting a bunch of facts. Lean is not made with skittles and iced tea. Wilson did not know about the robbery. This video is a bunch of poppy cock! Thank you for wasting my time.                                                                                                                                                                                                                                                                                                                                                                                                                                                                                                                                                                                                                                                                                                                                                                                                                                                                                                                                                                                                                                                                                                                                                                                                                                                                                                                                                                                                               1\nI take it your against medical cannabis? and just because the guy liked a couple face book fighting pages doesn't mean he is necessarily aggressive                                                                                                                                                                                                                                                                                                                                                                                                                                                                                                                                                                                                                                                                                                                                                                                                                                                                                                                                                                                                                                                                                                                                                                                                                                                                                                                                                                                                                                                                       1\nLOL, trayvon's online name was \"nolimitnigga\". how is it again people got mad that a piece of human trash like that got shot?                                                                                                                                                                                                                                                                                                                                                                                                                                                                                                                                                                                                                                                                                                                                                                                                                                                                                                                                                                                                                                                                                                                                                                                                                                                                                                                                                                                                                                                                                             1\noh brown was armed.....two very big muscular arms                                                                                                                                                                                                                                                                                                                                                                                                                                                                                                                                                                                                                                                                                                                                                                                                                                                                                                                                                                                                                                                                                                                                                                                                                                                                                                                                                                                                                                                                                                                                                                         1\nGod, the narrator has such an annoying lisp.                                                                                                                                                                                                                                                                                                                                                                                                                                                                                                                                                                                                                                                                                                                                                                                                                                                                                                                                                                                                                                                                                                                                                                                                                                                                                                                                                                                                                                                                                                                                                                              1\nName: Text, Length: 997, dtype: int64"
     },
     "execution_count": 7,
     "metadata": {},
     "output_type": "execute_result"
    }
   ],
   "source": [
    "df.Text.value_counts()\n",
    "#como detectar el id de esos repetidos"
   ],
   "metadata": {
    "collapsed": false
   }
  },
  {
   "cell_type": "code",
   "execution_count": 31,
   "outputs": [
    {
     "data": {
      "text/plain": "9pr1oE34bIM    274\n04kJtp6pVXI    172\ncT14IbTDW2c    146\ndG7mZQvaQDk    112\nTZxEyoplYbI    104\nbUgKZMSxr3E     39\n8HB18hZrhXc     38\n4rCweDxDqdw     37\nDt9-byUhPdg     34\n#NAME?          16\ndDbRyFIkNII     10\nXRuCW80L9mA     10\n5vF4si3hoRA      8\nName: VideoId, dtype: int64"
     },
     "execution_count": 31,
     "metadata": {},
     "output_type": "execute_result"
    }
   ],
   "source": [
    "df.VideoId.value_counts()"
   ],
   "metadata": {
    "collapsed": false
   }
  },
  {
   "cell_type": "code",
   "execution_count": null,
   "outputs": [],
   "source": [
    "#Resetear el id de Video para que sea mas legible en el grafico"
   ],
   "metadata": {
    "collapsed": false
   }
  },
  {
   "cell_type": "code",
   "execution_count": 32,
   "outputs": [
    {
     "data": {
      "text/plain": "<Figure size 640x480 with 1 Axes>",
      "image/png": "[encoded data removed]"
     },
     "metadata": {},
     "output_type": "display_data"
    }
   ],
   "source": [
    "ax = sns.countplot(x=\"VideoId\",data=df, palette=\"gist_rainbow_r\")\n",
    "plt.ylabel(\"Número de comentarios\")\n",
    "ax.spines[\"top\"].set_visible(False)\n",
    "ax.spines[\"right\"].set_visible(False)\n",
    "for p in ax.patches:\n",
    "    ax.annotate(f\"{p.get_height()*100/df.shape[0]:.2f}%\",(p.get_x()+p.get_width()/2,p.get_height()),\n",
    "               ha=\"center\",va=\"center\",fontsize=11,color=\"black\",rotation=0,xytext=(0,10),textcoords = \"offset points\")\n",
    "    plt.xticks(rotation=90)\n",
    "plt.show()"
   ],
   "metadata": {
    "collapsed": false
   }
  },
  {
   "cell_type": "code",
   "execution_count": 51,
   "id": "801f627f",
   "metadata": {},
   "outputs": [],
   "source": [
    "# Calcular la columna toxico en base a las columnas booleanas\n",
    "def crear_columna_Toxico(df):\n",
    "    df_Toxico = []\n",
    "    \"\"\"Se crea la columna Toxico, con la condición --> Si alguna de las categorias existentes tiene al menos un True ,\n",
    "    entonces el valor de la columna Toxico es True ó 1\"\"\"\n",
    "    for row in range(len(df)):\n",
    "        if df.iloc[row][\"IsToxic\"] == True or df.iloc[row][\"IsAbusive\"] == True or df.iloc[row][\"IsThreat\"] == True or df.iloc[row][\"IsProvocative\"] == True   or df.iloc[row][\"IsObscene\"] == True or df.iloc[row][\"IsHatespeech\"]  == True or df.iloc[row][\"IsRacist\"] == True    or df.iloc[row][\"IsNationalist\"] == True or  df.iloc[row][\"IsReligiousHate\"] == True  or  df.iloc[row][\"IsSexist\"] == True:\n",
    "            df_Toxico.append(1)\n",
    "        else:\n",
    "            df_Toxico.append(0)\n",
    "    df[\"Toxico\"] = df_Toxico\n",
    "    df = df.drop(['IsToxic', 'IsAbusive', 'IsThreat','IsProvocative', 'IsHatespeech', 'IsObscene','IsRacist', 'IsNationalist', 'IsReligiousHate','IsSexist', \"CommentId\",\"VideoId\",'IsHomophobic', 'IsRadicalism'], axis=1)\n",
    "    return df"
   ]
  },
  {
   "cell_type": "code",
   "execution_count": 52,
   "id": "8d2c4e5c",
   "metadata": {},
   "outputs": [
    {
     "data": {
      "text/plain": "                                                Text  Toxico\n0  If only people would just take a step back and...       0\n1  Law enforcement is not trained to shoot to app...       1\n2  \\nDont you reckon them 'black lives matter' ba...       1\n3  There are a very large number of people who do...       0\n4  The Arab dude is absolutely right, he should h...       0",
      "text/html": "<div>\n<style scoped>\n    .dataframe tbody tr th:only-of-type {\n        vertical-align: middle;\n    }\n\n    .dataframe tbody tr th {\n        vertical-align: top;\n    }\n\n    .dataframe thead th {\n        text-align: right;\n    }\n</style>\n<table border=\"1\" class=\"dataframe\">\n  <thead>\n    <tr style=\"text-align: right;\">\n      <th></th>\n      <th>Text</th>\n      <th>Toxico</th>\n    </tr>\n  </thead>\n  <tbody>\n    <tr>\n      <th>0</th>\n      <td>If only people would just take a step back and...</td>\n      <td>0</td>\n    </tr>\n    <tr>\n      <th>1</th>\n      <td>Law enforcement is not trained to shoot to app...</td>\n      <td>1</td>\n    </tr>\n    <tr>\n      <th>2</th>\n      <td>\\nDont you reckon them 'black lives matter' ba...</td>\n      <td>1</td>\n    </tr>\n    <tr>\n      <th>3</th>\n      <td>There are a very large number of people who do...</td>\n      <td>0</td>\n    </tr>\n    <tr>\n      <th>4</th>\n      <td>The Arab dude is absolutely right, he should h...</td>\n      <td>0</td>\n    </tr>\n  </tbody>\n</table>\n</div>"
     },
     "execution_count": 52,
     "metadata": {},
     "output_type": "execute_result"
    }
   ],
   "source": [
    "# Se aplica el metodo de crear la Columna Toxico, y se eliminan las otras categorías.\n",
    "df =crear_columna_Toxico(df)\n",
    "df.head(5)"
   ]
  },
  {
   "cell_type": "markdown",
   "id": "29932c2f",
   "metadata": {},
   "source": [
    "## Procesamiento del texto con NLP (Procesamiento del lenguaje Natural)"
   ]
  },
  {
   "cell_type": "code",
   "execution_count": 70,
   "outputs": [
    {
     "data": {
      "text/plain": "                                                  Text  Toxico\n0    If only people would just take a step back and...       0\n1    Law enforcement is not trained to shoot to app...       1\n2    \\nDont you reckon them 'black lives matter' ba...       1\n3    There are a very large number of people who do...       0\n4    The Arab dude is absolutely right, he should h...       0\n..                                                 ...     ...\n995  I remember that they sent in the national defe...       0\n996  Stats don`t represent the problem. Race baitin...       1\n997  The quote from the mother... Wow that hit hard...       0\n998                            this video is so racist       0\n999      God, the narrator has such an annoying lisp.        0\n\n[1000 rows x 2 columns]",
      "text/html": "<div>\n<style scoped>\n    .dataframe tbody tr th:only-of-type {\n        vertical-align: middle;\n    }\n\n    .dataframe tbody tr th {\n        vertical-align: top;\n    }\n\n    .dataframe thead th {\n        text-align: right;\n    }\n</style>\n<table border=\"1\" class=\"dataframe\">\n  <thead>\n    <tr style=\"text-align: right;\">\n      <th></th>\n      <th>Text</th>\n      <th>Toxico</th>\n    </tr>\n  </thead>\n  <tbody>\n    <tr>\n      <th>0</th>\n      <td>If only people would just take a step back and...</td>\n      <td>0</td>\n    </tr>\n    <tr>\n      <th>1</th>\n      <td>Law enforcement is not trained to shoot to app...</td>\n      <td>1</td>\n    </tr>\n    <tr>\n      <th>2</th>\n      <td>\\nDont you reckon them 'black lives matter' ba...</td>\n      <td>1</td>\n    </tr>\n    <tr>\n      <th>3</th>\n      <td>There are a very large number of people who do...</td>\n      <td>0</td>\n    </tr>\n    <tr>\n      <th>4</th>\n      <td>The Arab dude is absolutely right, he should h...</td>\n      <td>0</td>\n    </tr>\n    <tr>\n      <th>...</th>\n      <td>...</td>\n      <td>...</td>\n    </tr>\n    <tr>\n      <th>995</th>\n      <td>I remember that they sent in the national defe...</td>\n      <td>0</td>\n    </tr>\n    <tr>\n      <th>996</th>\n      <td>Stats don`t represent the problem. Race baitin...</td>\n      <td>1</td>\n    </tr>\n    <tr>\n      <th>997</th>\n      <td>The quote from the mother... Wow that hit hard...</td>\n      <td>0</td>\n    </tr>\n    <tr>\n      <th>998</th>\n      <td>this video is so racist</td>\n      <td>0</td>\n    </tr>\n    <tr>\n      <th>999</th>\n      <td>God, the narrator has such an annoying lisp.</td>\n      <td>0</td>\n    </tr>\n  </tbody>\n</table>\n<p>1000 rows × 2 columns</p>\n</div>"
     },
     "execution_count": 70,
     "metadata": {},
     "output_type": "execute_result"
    }
   ],
   "source": [
    "#df = pd.read_csv('youtoxic_english_1000.csv')\n",
    "df =crear_columna_Toxico(df)\n",
    "df"
   ],
   "metadata": {
    "collapsed": false
   }
  },
  {
   "cell_type": "code",
   "execution_count": 71,
   "id": "0cad586b",
   "metadata": {},
   "outputs": [],
   "source": [
    "def minusculas(text):\n",
    "    text_limpio = text.lower()\n",
    "    return text_limpio"
   ]
  },
  {
   "cell_type": "code",
   "execution_count": 78,
   "id": "0ece22a7",
   "metadata": {},
   "outputs": [],
   "source": [
    "## Eliminar tildes y caracteres especiales\n",
    "def caracteres(text):\n",
    "    '''Remove punctuation and remove words containing numbers.'''\n",
    "\n",
    "    text = re.sub('.*?¿', '', text)\n",
    "    text = re.sub('[%s]' % re.escape(string.punctuation), '', text)\n",
    "    text = re.sub('\\w*\\d\\w*', '', text)\n",
    "    text = re.sub('\\n', '', text)\n",
    "    re.sub('[0-9]+', '', text)\n",
    "    return text"
   ]
  },
  {
   "cell_type": "code",
   "execution_count": 161,
   "outputs": [],
   "source": [
    "def limpieza_texto(text):\n",
    "    df['Text'] = df['Text'].apply(minusculas)\n",
    "    df['Text'] = df['Text'].apply(caracteres)\n",
    "    return df"
   ],
   "metadata": {
    "collapsed": false
   }
  },
  {
   "cell_type": "markdown",
   "source": [
    "### Vamos a aplicar los dos métodos anteriores:\n",
    "* Convertir comentarios a minúsculas\n",
    "* Eliminar caracteres especiales y signos de puntuación."
   ],
   "metadata": {
    "collapsed": false
   }
  },
  {
   "cell_type": "code",
   "execution_count": 118,
   "outputs": [
    {
     "data": {
      "text/plain": "                                                  Text  Toxico  \\\n0    if only people would just take a step back and...       0   \n1    law enforcement is not trained to shoot to app...       1   \n2    dont you reckon them black lives matter banner...       1   \n3    there are a very large number of people who do...       0   \n4    the arab dude is absolutely right he should ha...       0   \n..                                                 ...     ...   \n995  i remember that they sent in the national defe...       0   \n996  stats dont represent the problem race baiting ...       1   \n997  the quote from the mother wow that hit hard ve...       0   \n998                            this video is so racist       0   \n999         god the narrator has such an annoying lisp       0   \n\n                                                tokens  \n0    people step case not people situation    lump ...  \n1    law enforcement train shoot apprehend    train...  \n2    not reckon black life matter banner hold white...  \n3    large number people like police officer call c...  \n4    arab dude absolutely right shot    extra time ...  \n..                                                 ...  \n995                     remember send national defence  \n996  stat not represent problem race bait attitude ...  \n997                 quote mother wow hit hard accurate  \n998                                       video racist  \n999                         god narrator annoying lisp  \n\n[1000 rows x 3 columns]",
      "text/html": "<div>\n<style scoped>\n    .dataframe tbody tr th:only-of-type {\n        vertical-align: middle;\n    }\n\n    .dataframe tbody tr th {\n        vertical-align: top;\n    }\n\n    .dataframe thead th {\n        text-align: right;\n    }\n</style>\n<table border=\"1\" class=\"dataframe\">\n  <thead>\n    <tr style=\"text-align: right;\">\n      <th></th>\n      <th>Text</th>\n      <th>Toxico</th>\n      <th>tokens</th>\n    </tr>\n  </thead>\n  <tbody>\n    <tr>\n      <th>0</th>\n      <td>if only people would just take a step back and...</td>\n      <td>0</td>\n      <td>people step case not people situation    lump ...</td>\n    </tr>\n    <tr>\n      <th>1</th>\n      <td>law enforcement is not trained to shoot to app...</td>\n      <td>1</td>\n      <td>law enforcement train shoot apprehend    train...</td>\n    </tr>\n    <tr>\n      <th>2</th>\n      <td>dont you reckon them black lives matter banner...</td>\n      <td>1</td>\n      <td>not reckon black life matter banner hold white...</td>\n    </tr>\n    <tr>\n      <th>3</th>\n      <td>there are a very large number of people who do...</td>\n      <td>0</td>\n      <td>large number people like police officer call c...</td>\n    </tr>\n    <tr>\n      <th>4</th>\n      <td>the arab dude is absolutely right he should ha...</td>\n      <td>0</td>\n      <td>arab dude absolutely right shot    extra time ...</td>\n    </tr>\n    <tr>\n      <th>...</th>\n      <td>...</td>\n      <td>...</td>\n      <td>...</td>\n    </tr>\n    <tr>\n      <th>995</th>\n      <td>i remember that they sent in the national defe...</td>\n      <td>0</td>\n      <td>remember send national defence</td>\n    </tr>\n    <tr>\n      <th>996</th>\n      <td>stats dont represent the problem race baiting ...</td>\n      <td>1</td>\n      <td>stat not represent problem race bait attitude ...</td>\n    </tr>\n    <tr>\n      <th>997</th>\n      <td>the quote from the mother wow that hit hard ve...</td>\n      <td>0</td>\n      <td>quote mother wow hit hard accurate</td>\n    </tr>\n    <tr>\n      <th>998</th>\n      <td>this video is so racist</td>\n      <td>0</td>\n      <td>video racist</td>\n    </tr>\n    <tr>\n      <th>999</th>\n      <td>god the narrator has such an annoying lisp</td>\n      <td>0</td>\n      <td>god narrator annoying lisp</td>\n    </tr>\n  </tbody>\n</table>\n<p>1000 rows × 3 columns</p>\n</div>"
     },
     "execution_count": 118,
     "metadata": {},
     "output_type": "execute_result"
    }
   ],
   "source": [
    "df = limpieza_texto(df)\n",
    "df"
   ],
   "metadata": {
    "collapsed": false
   }
  },
  {
   "cell_type": "code",
   "execution_count": 107,
   "outputs": [
    {
     "data": {
      "text/plain": "                                                  Text  Toxico  \\\n0    if only people would just take a step back and...       0   \n1    law enforcement is not trained to shoot to app...       1   \n2    dont you reckon them black lives matter banner...       1   \n3    there are a very large number of people who do...       0   \n4    the arab dude is absolutely right he should ha...       0   \n..                                                 ...     ...   \n995  i remember that they sent in the national defe...       0   \n996  stats dont represent the problem race baiting ...       1   \n997  the quote from the mother wow that hit hard ve...       0   \n998                            this video is so racist       0   \n999         god the narrator has such an annoying lisp       0   \n\n                                                tokens  \n0    people step case not people situation     lump...  \n1    law enforcement train shoot apprehend    train...  \n2    not reckon black life matter banner hold white...  \n3    large number people like police officer call c...  \n4    arab dude absolutely right shot    extra time ...  \n..                                                 ...  \n995                     remember send national defence  \n996  stat not represent problem race bait attitude ...  \n997                 quote mother wow hit hard accurate  \n998                                       video racist  \n999                         god narrator annoying lisp  \n\n[1000 rows x 3 columns]",
      "text/html": "<div>\n<style scoped>\n    .dataframe tbody tr th:only-of-type {\n        vertical-align: middle;\n    }\n\n    .dataframe tbody tr th {\n        vertical-align: top;\n    }\n\n    .dataframe thead th {\n        text-align: right;\n    }\n</style>\n<table border=\"1\" class=\"dataframe\">\n  <thead>\n    <tr style=\"text-align: right;\">\n      <th></th>\n      <th>Text</th>\n      <th>Toxico</th>\n      <th>tokens</th>\n    </tr>\n  </thead>\n  <tbody>\n    <tr>\n      <th>0</th>\n      <td>if only people would just take a step back and...</td>\n      <td>0</td>\n      <td>people step case not people situation     lump...</td>\n    </tr>\n    <tr>\n      <th>1</th>\n      <td>law enforcement is not trained to shoot to app...</td>\n      <td>1</td>\n      <td>law enforcement train shoot apprehend    train...</td>\n    </tr>\n    <tr>\n      <th>2</th>\n      <td>dont you reckon them black lives matter banner...</td>\n      <td>1</td>\n      <td>not reckon black life matter banner hold white...</td>\n    </tr>\n    <tr>\n      <th>3</th>\n      <td>there are a very large number of people who do...</td>\n      <td>0</td>\n      <td>large number people like police officer call c...</td>\n    </tr>\n    <tr>\n      <th>4</th>\n      <td>the arab dude is absolutely right he should ha...</td>\n      <td>0</td>\n      <td>arab dude absolutely right shot    extra time ...</td>\n    </tr>\n    <tr>\n      <th>...</th>\n      <td>...</td>\n      <td>...</td>\n      <td>...</td>\n    </tr>\n    <tr>\n      <th>995</th>\n      <td>i remember that they sent in the national defe...</td>\n      <td>0</td>\n      <td>remember send national defence</td>\n    </tr>\n    <tr>\n      <th>996</th>\n      <td>stats dont represent the problem race baiting ...</td>\n      <td>1</td>\n      <td>stat not represent problem race bait attitude ...</td>\n    </tr>\n    <tr>\n      <th>997</th>\n      <td>the quote from the mother wow that hit hard ve...</td>\n      <td>0</td>\n      <td>quote mother wow hit hard accurate</td>\n    </tr>\n    <tr>\n      <th>998</th>\n      <td>this video is so racist</td>\n      <td>0</td>\n      <td>video racist</td>\n    </tr>\n    <tr>\n      <th>999</th>\n      <td>god the narrator has such an annoying lisp</td>\n      <td>0</td>\n      <td>god narrator annoying lisp</td>\n    </tr>\n  </tbody>\n</table>\n<p>1000 rows × 3 columns</p>\n</div>"
     },
     "execution_count": 107,
     "metadata": {},
     "output_type": "execute_result"
    }
   ],
   "source": [
    "df"
   ],
   "metadata": {
    "collapsed": false
   }
  },
  {
   "cell_type": "markdown",
   "id": "fb63ad05-ca33-4391-9054-91140ec17033",
   "metadata": {},
   "source": [
    "# Tokenizar"
   ]
  },
  {
   "cell_type": "code",
   "execution_count": 108,
   "id": "7bdab890-026c-472e-b457-e337c6aadef5",
   "metadata": {},
   "outputs": [
    {
     "data": {
      "text/plain": "                                                  Text  Toxico  \\\n0    if only people would just take a step back and...       0   \n1    law enforcement is not trained to shoot to app...       1   \n2    dont you reckon them black lives matter banner...       1   \n3    there are a very large number of people who do...       0   \n4    the arab dude is absolutely right he should ha...       0   \n..                                                 ...     ...   \n995  i remember that they sent in the national defe...       0   \n996  stats dont represent the problem race baiting ...       1   \n997  the quote from the mother wow that hit hard ve...       0   \n998                            this video is so racist       0   \n999         god the narrator has such an annoying lisp       0   \n\n                                                tokens  \n0    (if, only, people, would, just, take, a, step,...  \n1    (law, enforcement, is, not, trained, to, shoot...  \n2    (do, nt, you, reckon, them, black, lives, matt...  \n3    (there, are, a, very, large, number, of, peopl...  \n4    (the, arab, dude, is, absolutely, right, he, s...  \n..                                                 ...  \n995  (i, remember, that, they, sent, in, the, natio...  \n996  (stats, do, nt, represent, the, problem, race,...  \n997  (the, quote, from, the, mother, wow, that, hit...  \n998                      (this, video, is, so, racist)  \n999  (god, the, narrator, has, such, an, annoying, ...  \n\n[1000 rows x 3 columns]",
      "text/html": "<div>\n<style scoped>\n    .dataframe tbody tr th:only-of-type {\n        vertical-align: middle;\n    }\n\n    .dataframe tbody tr th {\n        vertical-align: top;\n    }\n\n    .dataframe thead th {\n        text-align: right;\n    }\n</style>\n<table border=\"1\" class=\"dataframe\">\n  <thead>\n    <tr style=\"text-align: right;\">\n      <th></th>\n      <th>Text</th>\n      <th>Toxico</th>\n      <th>tokens</th>\n    </tr>\n  </thead>\n  <tbody>\n    <tr>\n      <th>0</th>\n      <td>if only people would just take a step back and...</td>\n      <td>0</td>\n      <td>(if, only, people, would, just, take, a, step,...</td>\n    </tr>\n    <tr>\n      <th>1</th>\n      <td>law enforcement is not trained to shoot to app...</td>\n      <td>1</td>\n      <td>(law, enforcement, is, not, trained, to, shoot...</td>\n    </tr>\n    <tr>\n      <th>2</th>\n      <td>dont you reckon them black lives matter banner...</td>\n      <td>1</td>\n      <td>(do, nt, you, reckon, them, black, lives, matt...</td>\n    </tr>\n    <tr>\n      <th>3</th>\n      <td>there are a very large number of people who do...</td>\n      <td>0</td>\n      <td>(there, are, a, very, large, number, of, peopl...</td>\n    </tr>\n    <tr>\n      <th>4</th>\n      <td>the arab dude is absolutely right he should ha...</td>\n      <td>0</td>\n      <td>(the, arab, dude, is, absolutely, right, he, s...</td>\n    </tr>\n    <tr>\n      <th>...</th>\n      <td>...</td>\n      <td>...</td>\n      <td>...</td>\n    </tr>\n    <tr>\n      <th>995</th>\n      <td>i remember that they sent in the national defe...</td>\n      <td>0</td>\n      <td>(i, remember, that, they, sent, in, the, natio...</td>\n    </tr>\n    <tr>\n      <th>996</th>\n      <td>stats dont represent the problem race baiting ...</td>\n      <td>1</td>\n      <td>(stats, do, nt, represent, the, problem, race,...</td>\n    </tr>\n    <tr>\n      <th>997</th>\n      <td>the quote from the mother wow that hit hard ve...</td>\n      <td>0</td>\n      <td>(the, quote, from, the, mother, wow, that, hit...</td>\n    </tr>\n    <tr>\n      <th>998</th>\n      <td>this video is so racist</td>\n      <td>0</td>\n      <td>(this, video, is, so, racist)</td>\n    </tr>\n    <tr>\n      <th>999</th>\n      <td>god the narrator has such an annoying lisp</td>\n      <td>0</td>\n      <td>(god, the, narrator, has, such, an, annoying, ...</td>\n    </tr>\n  </tbody>\n</table>\n<p>1000 rows × 3 columns</p>\n</div>"
     },
     "execution_count": 108,
     "metadata": {},
     "output_type": "execute_result"
    }
   ],
   "source": [
    "nlp = spacy.load(\"en_core_web_sm\")\n",
    "df[\"tokens\"] = df[\"Text\"].apply(lambda x: nlp.tokenizer(x))\n",
    "df"
   ]
  },
  {
   "cell_type": "markdown",
   "source": [
    "# Stop World"
   ],
   "metadata": {
    "collapsed": false
   }
  },
  {
   "cell_type": "code",
   "execution_count": 109,
   "outputs": [],
   "source": [
    "def eliminar_stop_words(text):\n",
    "    doc = nlp(text)\n",
    "    tokens = [token.text for token in doc if not token.is_stop]\n",
    "    return \" \".join(token for token in tokens)"
   ],
   "metadata": {
    "collapsed": false
   }
  },
  {
   "cell_type": "markdown",
   "source": [
    "# Lematizacion"
   ],
   "metadata": {
    "collapsed": false
   }
  },
  {
   "cell_type": "code",
   "execution_count": 110,
   "outputs": [],
   "source": [
    "def lematizar(text):\n",
    "    doc = nlp(text)\n",
    "    tokens = [token.lemma_ for token in doc]\n",
    "    return \" \".join(token for token in tokens)\n"
   ],
   "metadata": {
    "collapsed": false
   }
  },
  {
   "cell_type": "markdown",
   "source": [
    "### Vamos a aplicar los dos métodos anteriores:\n",
    "* Eliminar las \"palabras vacías\" o \"stop words\"\n",
    "* Lematizar."
   ],
   "metadata": {
    "collapsed": false
   }
  },
  {
   "cell_type": "code",
   "execution_count": 24,
   "outputs": [],
   "source": [
    "def sw_lem(text):\n",
    "    df['tokens'] = df['tokens'].apply(eliminar_stop_words)\n",
    "    df['tokens'] = df['tokens'].apply(lematizar)\n",
    "    return df"
   ],
   "metadata": {
    "collapsed": false
   }
  },
  {
   "cell_type": "code",
   "execution_count": 119,
   "outputs": [],
   "source": [
    "df = limpieza_texto(df)\n",
    "df[\"tokens\"] = df[\"Text\"].apply(lambda x: nlp.tokenizer(x))\n",
    "df = sw_lem(df)"
   ],
   "metadata": {
    "collapsed": false
   }
  },
  {
   "cell_type": "code",
   "execution_count": 120,
   "outputs": [
    {
     "data": {
      "text/plain": "                                                  Text  Toxico  \\\n0    if only people would just take a step back and...       0   \n1    law enforcement is not trained to shoot to app...       1   \n2    dont you reckon them black lives matter banner...       1   \n3    there are a very large number of people who do...       0   \n4    the arab dude is absolutely right he should ha...       0   \n..                                                 ...     ...   \n995  i remember that they sent in the national defe...       0   \n996  stats dont represent the problem race baiting ...       1   \n997  the quote from the mother wow that hit hard ve...       0   \n998                            this video is so racist       0   \n999         god the narrator has such an annoying lisp       0   \n\n                                                tokens  \n0    people step case not people situation    lump ...  \n1    law enforcement train shoot apprehend    train...  \n2    not reckon black life matter banner hold white...  \n3    large number people like police officer call c...  \n4    arab dude absolutely right shot    extra time ...  \n..                                                 ...  \n995                     remember send national defence  \n996  stat not represent problem race bait attitude ...  \n997                 quote mother wow hit hard accurate  \n998                                       video racist  \n999                         god narrator annoying lisp  \n\n[1000 rows x 3 columns]",
      "text/html": "<div>\n<style scoped>\n    .dataframe tbody tr th:only-of-type {\n        vertical-align: middle;\n    }\n\n    .dataframe tbody tr th {\n        vertical-align: top;\n    }\n\n    .dataframe thead th {\n        text-align: right;\n    }\n</style>\n<table border=\"1\" class=\"dataframe\">\n  <thead>\n    <tr style=\"text-align: right;\">\n      <th></th>\n      <th>Text</th>\n      <th>Toxico</th>\n      <th>tokens</th>\n    </tr>\n  </thead>\n  <tbody>\n    <tr>\n      <th>0</th>\n      <td>if only people would just take a step back and...</td>\n      <td>0</td>\n      <td>people step case not people situation    lump ...</td>\n    </tr>\n    <tr>\n      <th>1</th>\n      <td>law enforcement is not trained to shoot to app...</td>\n      <td>1</td>\n      <td>law enforcement train shoot apprehend    train...</td>\n    </tr>\n    <tr>\n      <th>2</th>\n      <td>dont you reckon them black lives matter banner...</td>\n      <td>1</td>\n      <td>not reckon black life matter banner hold white...</td>\n    </tr>\n    <tr>\n      <th>3</th>\n      <td>there are a very large number of people who do...</td>\n      <td>0</td>\n      <td>large number people like police officer call c...</td>\n    </tr>\n    <tr>\n      <th>4</th>\n      <td>the arab dude is absolutely right he should ha...</td>\n      <td>0</td>\n      <td>arab dude absolutely right shot    extra time ...</td>\n    </tr>\n    <tr>\n      <th>...</th>\n      <td>...</td>\n      <td>...</td>\n      <td>...</td>\n    </tr>\n    <tr>\n      <th>995</th>\n      <td>i remember that they sent in the national defe...</td>\n      <td>0</td>\n      <td>remember send national defence</td>\n    </tr>\n    <tr>\n      <th>996</th>\n      <td>stats dont represent the problem race baiting ...</td>\n      <td>1</td>\n      <td>stat not represent problem race bait attitude ...</td>\n    </tr>\n    <tr>\n      <th>997</th>\n      <td>the quote from the mother wow that hit hard ve...</td>\n      <td>0</td>\n      <td>quote mother wow hit hard accurate</td>\n    </tr>\n    <tr>\n      <th>998</th>\n      <td>this video is so racist</td>\n      <td>0</td>\n      <td>video racist</td>\n    </tr>\n    <tr>\n      <th>999</th>\n      <td>god the narrator has such an annoying lisp</td>\n      <td>0</td>\n      <td>god narrator annoying lisp</td>\n    </tr>\n  </tbody>\n</table>\n<p>1000 rows × 3 columns</p>\n</div>"
     },
     "execution_count": 120,
     "metadata": {},
     "output_type": "execute_result"
    }
   ],
   "source": [
    "df = sw_lem(df)\n",
    "df"
   ],
   "metadata": {
    "collapsed": false
   }
  },
  {
   "cell_type": "code",
   "execution_count": null,
   "outputs": [],
   "source": [
    "#Quitar urls de los comentarios NO SE COMO HACERLO\n",
    "#Convertir números en texto YA\n",
    "#Quitar barras invertidas YA\n",
    "#Quitar espacios en blanco NO FUNCIONA\n",
    "#Revisar abreviaturas para que se eliminen efectivamente como stops worlds YA\n",
    "# Eliminar emojis YA"
   ],
   "metadata": {
    "collapsed": false
   }
  },
  {
   "cell_type": "markdown",
   "source": [
    "# Modelos de Machine Learning"
   ],
   "metadata": {
    "collapsed": false
   }
  },
  {
   "cell_type": "markdown",
   "source": [
    "# Separar dataset para el entrenamiento"
   ],
   "metadata": {
    "collapsed": false
   }
  },
  {
   "cell_type": "code",
   "execution_count": 121,
   "outputs": [],
   "source": [
    "X= df['tokens']\n",
    "y= df['Toxico']"
   ],
   "metadata": {
    "collapsed": false
   }
  },
  {
   "cell_type": "code",
   "execution_count": 122,
   "outputs": [],
   "source": [
    "from sklearn.model_selection import train_test_split\n",
    "X_train, X_test, y_train, y_test = train_test_split(X, y,test_size=0.2, random_state=101, stratify=y)"
   ],
   "metadata": {
    "collapsed": false
   }
  },
  {
   "cell_type": "code",
   "execution_count": 123,
   "outputs": [
    {
     "data": {
      "text/plain": "810    old white conservative say peggy vice presiden...\n817                               love thug deserve slug\n920    not race issue police brutality issue time cop...\n32                                 massri need education\n493    public school terrible problem kid attend publ...\n                             ...                        \n449    not wait jesus come care b s m get sick tired ...\n101    wonder police expect happen continually abuse ...\n207    slow not tell speed ms scully talk quickly gre...\n364    educate dumb assss rap rap real people like di...\n435                            far base not propaganda b\nName: tokens, Length: 800, dtype: object"
     },
     "execution_count": 123,
     "metadata": {},
     "output_type": "execute_result"
    }
   ],
   "source": [
    "X_train"
   ],
   "metadata": {
    "collapsed": false
   }
  },
  {
   "cell_type": "code",
   "execution_count": 116,
   "outputs": [
    {
     "data": {
      "text/plain": "915    not want justice    mob mentality action    s ...\n636                         weak display law enforcement\n790    m sure michael brown know killer young girl co...\n455    dear mr stefan molyneux not add video michael ...\n261    typical mindset white people    white people d...\n                             ...                        \n98     cnnso touchclose idiot people watch comedy rep...\n946    not cop armed civil war    machine gun unarmed...\n356    true police originally say robbery stop    cla...\n84                     act like animal treat like animal\n683          gas grenade pepper spray knight stick apply\nName: tokens, Length: 200, dtype: object"
     },
     "execution_count": 116,
     "metadata": {},
     "output_type": "execute_result"
    }
   ],
   "source": [
    "X_test"
   ],
   "metadata": {
    "collapsed": false
   }
  },
  {
   "cell_type": "markdown",
   "source": [
    "# Vectorizar\n",
    "Utilizaremos `TfidfVectorizer` para crear vectores de los datos textuales."
   ],
   "metadata": {
    "collapsed": false
   }
  },
  {
   "cell_type": "code",
   "execution_count": 96,
   "outputs": [],
   "source": [
    "from sklearn.feature_extraction.text import TfidfVectorizer\n",
    "vect = TfidfVectorizer(\n",
    "    strip_accents='unicode',\n",
    "    analyzer='word',\n",
    "    token_pattern=r'w{1,}',\n",
    "    ngram_range=(1, 3),\n",
    "    stop_words='english',\n",
    "    sublinear_tf=True)"
   ],
   "metadata": {
    "collapsed": false
   }
  },
  {
   "cell_type": "code",
   "execution_count": 31,
   "outputs": [
    {
     "data": {
      "text/plain": "TfidfVectorizer(ngram_range=(1, 3), stop_words='english',\n                strip_accents='unicode', sublinear_tf=True,\n                token_pattern='w{1,}')"
     },
     "execution_count": 31,
     "metadata": {},
     "output_type": "execute_result"
    }
   ],
   "source": [
    "vect"
   ],
   "metadata": {
    "collapsed": false
   }
  },
  {
   "cell_type": "markdown",
   "source": [
    "# Se aplica la función vectorizar a los datasets de train y test"
   ],
   "metadata": {
    "collapsed": false
   }
  },
  {
   "cell_type": "code",
   "execution_count": 124,
   "outputs": [],
   "source": [
    "X_train = vect.fit_transform(X_train)\n",
    "X_test = vect.transform(X_test)"
   ],
   "metadata": {
    "collapsed": false
   }
  },
  {
   "cell_type": "markdown",
   "source": [
    "# Algoritmos de ML clasificacion (no-ensemble)\n",
    "### * Naïve Bayes\n",
    "### * Máquinas de vectores de soporte\n",
    "### * Regresión logística\n",
    "### * Árboles de decisión\n",
    "### * Vecinos más cercanos\n"
   ],
   "metadata": {
    "collapsed": false
   }
  },
  {
   "cell_type": "code",
   "execution_count": 35,
   "outputs": [],
   "source": [
    "#Arbol de decision\n",
    "from sklearn.tree import DecisionTreeClassifier\n",
    "#Regresión logística\n",
    "from sklearn.linear_model import LogisticRegression\n",
    "#KML\n",
    "from sklearn.neighbors import KNeighborsClassifier\n",
    "#SVR\n",
    "from sklearn.svm import SVC\n",
    "#NAive Bayes\n",
    "from sklearn.naive_bayes import GaussianNB"
   ],
   "metadata": {
    "collapsed": false
   }
  },
  {
   "cell_type": "code",
   "execution_count": 36,
   "outputs": [],
   "source": [
    "## Métricas de evaluación\n",
    "\n",
    "from sklearn import metrics\n",
    "from sklearn.metrics import accuracy_score\n",
    "from sklearn.metrics import precision_score\n",
    "from sklearn.metrics import recall_score\n",
    "from sklearn.metrics import f1_score\n",
    "from sklearn.metrics import roc_auc_score\n",
    "from sklearn.metrics import confusion_matrix\n",
    "from sklearn.metrics import classification_report\n",
    "from sklearn.model_selection import cross_validate\n",
    "from sklearn.metrics import make_scorer"
   ],
   "metadata": {
    "collapsed": false
   }
  },
  {
   "cell_type": "code",
   "execution_count": 37,
   "outputs": [],
   "source": [
    "def train_evaluate(nombre_modelo,modelo):\n",
    "    #Instanciación del modelo\n",
    "    mod= modelo()\n",
    "    # Entrenamiento del modelo\n",
    "    mod.fit(X_train, y_train)\n",
    "\n",
    "    #Prediccion y evaluación del modelo\n",
    "    y_predict= mod.predict(X_test)\n",
    "    y_predict_train= mod.predict(X_train)\n",
    "\n",
    "    #Métricas de Evaluación\n",
    "    accuracy= accuracy_score(y_test, y_predict)\n",
    "    accuracy_train= accuracy_score(y_train, y_predict_train)\n",
    "    recall= recall_score(y_test, y_predict)\n",
    "    f1= f1_score(y_test, y_predict)\n",
    "    ROC= roc_auc_score(y_test, y_predict)\n",
    "    print(nombre_modelo)\n",
    "    print(\"-----------------------------------------------------\")\n",
    "    print(\"F1_score: {:.2f} %\".format(100 * f1))\n",
    "    print(\"-----------------------------------------------------\")\n",
    "    print(\"Recall: {:.2f} %\".format(100 * recall))\n",
    "    print(\"-----------------------------------------------------\")\n",
    "    print(\"ROC: {:.2f} %\".format(100 * ROC))\n",
    "    print(\"-----------------------------------------------------\")\n",
    "    print(\"Accuracy_test es: {:.2f} %\".format(100 * accuracy))\n",
    "    print(\"-----------------------------------------------------\")\n",
    "    print(\"Accuracy_train es: {:.2f} %\".format(100 * accuracy_train))\n",
    "    print(\"-----------------------------------------------------\")\n",
    "    print(\"Overfitting {:.2f} % \".format(((accuracy - accuracy_train)/accuracy) *100))\n",
    "    print(\"-----------------------------------------------------\")\n",
    "    print(\"Matriz de confusión:\")\n",
    "    #print(\"-----------------------------------------------------\")\n",
    "\n",
    "    Labels= 'Sin Odio', 'Con Odio'\n",
    "    conf_matrix = confusion_matrix(y_test, y_predict)\n",
    "    plt.figure(figsize=(8, 8))\n",
    "    sns.heatmap(conf_matrix, xticklabels=Labels, yticklabels=Labels, annot=True, fmt=\"d\");\n",
    "    #plt.title(\"Matriz de confusión\")\n",
    "    plt.ylabel('True class')\n",
    "    plt.xlabel('Predicted Class')\n",
    "    plt.show()\n",
    "    print(\"-----------------------------------------------------\")\n",
    "    print(\"Reporte de Clasificación (test)\")\n",
    "    print(\"-----------------------------------------------------\")\n",
    "    print (classification_report(y_test, y_predict))\n",
    "\n",
    "    #train_evaluate(y_test, y_predict)\n",
    "    print(\"-----------------------------------------------------\")\n",
    "    print(\"Reporte de Clasificación (train)\")\n",
    "    print(\"-----------------------------------------------------\")\n",
    "    print (classification_report(y_train,y_predict_train))\n",
    "    print(\"-----------------------------------------------------\")"
   ],
   "metadata": {
    "collapsed": false
   }
  },
  {
   "cell_type": "code",
   "execution_count": 211,
   "outputs": [],
   "source": [
    "#train_evaluate(\"Logistic Regression\", LogisticRegression)\n",
    "#train_evaluate(\"SVM\", SVC)\n",
    "#train_evaluate(\"Decission Tree\", DecisionTreeClassifier)\n",
    "#train_evaluate(\"Naive Bayes\", GaussianNB)\n",
    "#train_evaluate(\"KNN\", KNeighborsClassifier)\n"
   ],
   "metadata": {
    "collapsed": false
   }
  },
  {
   "cell_type": "code",
   "execution_count": 212,
   "outputs": [],
   "source": [
    "#train_evaluate(\"Naive Bayes\", GaussianNB)"
   ],
   "metadata": {
    "collapsed": false
   }
  },
  {
   "cell_type": "code",
   "execution_count": 213,
   "outputs": [],
   "source": [
    "#train_evaluate(\"Decission Tree\", DecisionTreeClassifier)"
   ],
   "metadata": {
    "collapsed": false
   }
  },
  {
   "cell_type": "code",
   "execution_count": 214,
   "outputs": [],
   "source": [
    "#train_evaluate(\"KNN\", KNeighborsClassifier)"
   ],
   "metadata": {
    "collapsed": false
   }
  },
  {
   "cell_type": "code",
   "execution_count": 215,
   "outputs": [],
   "source": [
    "#train_evaluate(\"SVM\", SVC)"
   ],
   "metadata": {
    "collapsed": false
   }
  },
  {
   "cell_type": "markdown",
   "source": [
    "# Algoritmos Ensamble\n",
    "### * GradientBoost ---> GradientBoostClassifier\n",
    "### * Ramdom Forest ---> Ramdom ForestClassifier\n",
    "### * AdaBoost ---> AdaBoostClassifier\n",
    "### * XgBoost ----> XgBoostClassifier\n",
    "### * LgBoost--->LGBMClassifier(),\n",
    "### * CatBoost--->CatBoostClassifier(verbose=False)"
   ],
   "metadata": {
    "collapsed": false
   }
  },
  {
   "cell_type": "code",
   "execution_count": 41,
   "outputs": [],
   "source": [
    "# Algoritmos de ensemble\n",
    "from sklearn.ensemble import GradientBoostingClassifier\n",
    "from sklearn.ensemble import RandomForestClassifier\n",
    "from sklearn.ensemble import AdaBoostClassifier\n",
    "from sklearn.ensemble import VotingClassifier\n",
    "import xgboost as xgb\n",
    "from xgboost import XGBClassifier\n",
    "#import lightgbm\n",
    "import catboost\n",
    "#from lightgbm import LGBMClassifier\n",
    "from catboost import CatBoostClassifier"
   ],
   "metadata": {
    "collapsed": false
   }
  },
  {
   "cell_type": "code",
   "execution_count": 216,
   "outputs": [],
   "source": [
    "#train_evaluate(\"Random Forest\", RandomForestClassifier)\n",
    "#train_evaluate(\"Gradient Boosting Regressor\", GradientBoostingClassifier)\n",
    "#train_evaluate(\"AdaBoost Classifier\", AdaBoostClassifier)\n",
    "#train_evaluate(\"XgBoost Classifier\", XGBClassifier)\n",
    "#train_evaluate(\"LightGBM Classifier\", LGBMClassifier)\n",
    "#train_evaluate(\"CatBoost Classifier\", CatBoostClassifier)\n"
   ],
   "metadata": {
    "collapsed": false
   }
  },
  {
   "cell_type": "code",
   "execution_count": 217,
   "outputs": [],
   "source": [
    "#train_evaluate(\"Gradient Boosting Classifier\", GradientBoostingClassifier)"
   ],
   "metadata": {
    "collapsed": false
   }
  },
  {
   "cell_type": "code",
   "execution_count": 218,
   "outputs": [],
   "source": [
    "#train_evaluate(\"AdaBoost Regressor\", AdaBoostClassifier)"
   ],
   "metadata": {
    "collapsed": false
   }
  },
  {
   "cell_type": "code",
   "execution_count": 219,
   "outputs": [],
   "source": [
    "#train_evaluate(\"CatBoost Classifier\", CatBoostClassifier)"
   ],
   "metadata": {
    "collapsed": false
   }
  },
  {
   "cell_type": "code",
   "execution_count": 220,
   "outputs": [],
   "source": [
    "#train_evaluate(\"XgBoost Classifier\", XGBClassifier)"
   ],
   "metadata": {
    "collapsed": false
   }
  }
 ],
 "metadata": {
  "kernelspec": {
   "display_name": "Python 3 (ipykernel)",
   "language": "python",
   "name": "python3"
  },
  "language_info": {
   "codemirror_mode": {
    "name": "ipython",
    "version": 3
   },
   "file_extension": ".py",
   "mimetype": "text/x-python",
   "name": "python",
   "nbconvert_exporter": "python",
   "pygments_lexer": "ipython3",
   "version": "3.10.8"
  }
 },
 "nbformat": 4,
 "nbformat_minor": 5
}
